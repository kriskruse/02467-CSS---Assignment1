{
 "cells": [
  {
   "cell_type": "markdown",
   "metadata": {},
   "source": [
    "# Assignment 1"
   ]
  },
  {
   "cell_type": "markdown",
   "metadata": {},
   "source": [
    "# Formalia:\n",
    "\n",
    "Please read the [assignment overview page](https://laura.alessandretti.com/comsocsci2023/assignments.html) carefully before proceeding. This page contains information about formatting (including formats etc), group sizes, and many other aspects of handing in the assignment. \n",
    "\n",
    "_If you fail to follow these simple instructions, it will negatively impact your grade!_\n",
    "\n",
    "**Due date and time**: The assignment is due on Feb 28th at 23:55. Hand in your Jupyter notebook file (with extension `.ipynb`) via DTU Learn _(Assignment, Assignment 1)_. \n",
    "\n",
    "Remember to include in the first cell of your notebook:\n",
    "* the link to your group's Git repository (if you don't have a shared Git repository, it's fine. Remember to do it next time)\n",
    "* group members' contributions"
   ]
  },
  {
   "cell_type": "markdown",
   "metadata": {},
   "source": [
    "## Part 1: Using web-scraping to gather data\n",
    "\n",
    "Gather the list of researchers that have joined the most important scientific conference in Computational Social Science in 2019. \n",
    "\n",
    "You can find the programmes of the 2019 edition at the links below:  \n",
    ">Oral presentations: https://2019.ic2s2.org/oral-presentations/    \n",
    "> Poster presentations: https://2019.ic2s2.org/posters/    \n",
    "\n",
    "1. Inspect the HTML of the pages above and use web-scraping to get the set of participants in 2019. Share your code and add comments to guide us through it.\n",
    "2. How many unique researchers you got in 2019?\n",
    "3. Explain one or two decisions you took during the web-scraping exercise, for 2019 or any other year. Why did you take this choice? How might your decision impact the final number of authors?"
   ]
  },
  {
   "attachments": {},
   "cell_type": "markdown",
   "metadata": {},
   "source": [
    "We decided to extract the names from the poster session with regular expressions. Regular expressions are great tools for extracting text when there is a consistent format in the text. While the format is not completely consistent, we deemed it good enough to proceed. \n",
    "\n",
    "The oral presentations were less consistent than the poster session and so we chose to put our background in machine learning to use and chose to find the names with named entity recognition (NER) by using the very simple Huggingface pipeline tool. The advantage of NER is that very little pre/post-processing is needed but the disadvantage is that it's a black box model, so we cannot guarantee that it will find all the names.\n",
    "\n",
    "While manual inspection of the data would have guaranteed that all names are correct, we chose not to do so as this rarely is a possibility when working with large datasets. Additionally, we don't think that this is check is necessary as the semantic scholar api will notify us if a name is not found."
   ]
  },
  {
   "cell_type": "code",
   "execution_count": 1,
   "metadata": {
    "collapsed": false
   },
   "outputs": [
    {
     "name": "stderr",
     "output_type": "stream",
     "text": [
      "c:\\Users\\victo\\Anaconda3\\envs\\si\\lib\\site-packages\\tqdm\\auto.py:22: TqdmWarning: IProgress not found. Please update jupyter and ipywidgets. See https://ipywidgets.readthedocs.io/en/stable/user_install.html\n",
      "  from .autonotebook import tqdm as notebook_tqdm\n"
     ]
    }
   ],
   "source": [
    "import requests\n",
    "from bs4 import BeautifulSoup\n",
    "from bs4.element import NavigableString\n",
    "import re\n",
    "import transformers\n",
    "\n",
    "# 2019 posters\n",
    "speakers_2019 = set()\n",
    "poster_pattern = re.compile(r\"(?<=<li>)(.*?)(?=<span>|<br\\/>|<\\/li>)\") # Regex to find properly segment li's\n",
    "strong = re.compile(r\"(<strong>|</strong>)\")\n",
    "\n",
    "poster_session = requests.get(\"https://2019.ic2s2.org/posters/\").content\n",
    "poster = BeautifulSoup(poster_session)\n",
    "\n",
    "uls = poster.find_all(\"ul\")[6:8] # The 7th and 8th uls are the elements containing the list of names and presentations\n",
    "\n",
    "for ul in uls:\n",
    "    for li in ul:\n",
    "        if type(li) == NavigableString:\n",
    "            continue\n",
    "        match = re.findall(poster_pattern, str(li))\n",
    "        if match: # if there was a match proceed\n",
    "            if re.findall(strong, str(match)): # Filter away poorly written list elements (looking at you title in its own li)\n",
    "                continue\n",
    "            speakers = match[0].split(\", \") # split names at \", \"\n",
    "            split = speakers[-1].split(\" and \") # split the last potential pair of names at \" and \", if there isn't a pair nothing happens\n",
    "            if len(split) == 2: # if there was a pair of names it will be split\n",
    "                speakers = speakers[:-1] + split\n",
    "            for speaker in speakers:\n",
    "                speakers_2019.add(speaker) # finally add the names from the li to the set of speakers"
   ]
  },
  {
   "cell_type": "code",
   "execution_count": 2,
   "metadata": {},
   "outputs": [],
   "source": [
    "# 2019 oral\n",
    "url_2019_oral = \"https://2019.ic2s2.org/oral-presentations/\"\n",
    "page_2019_oral = requests.get(url_2019_oral)\n",
    "soup_2019_oral = BeautifulSoup(page_2019_oral.content)\n",
    "paragraphs_2019_oral = soup_2019_oral.find_all(\"p\")[3:-8]\n",
    "texts_2019_oral = []\n",
    "# get all the text where names are present.\n",
    "for p in paragraphs_2019_oral:\n",
    "    p = [i.get_text() for i in p]\n",
    "    p = [i for i in p if len(i) > 0]\n",
    "    for line in p:\n",
    "        texts_2019_oral.append(line)"
   ]
  },
  {
   "cell_type": "code",
   "execution_count": 3,
   "metadata": {},
   "outputs": [
    {
     "name": "stderr",
     "output_type": "stream",
     "text": [
      "No model was supplied, defaulted to dbmdz/bert-large-cased-finetuned-conll03-english and revision f2482bf (https://huggingface.co/dbmdz/bert-large-cased-finetuned-conll03-english).\n",
      "Using a pipeline without specifying a model name and revision in production is not recommended.\n"
     ]
    }
   ],
   "source": [
    "# A huggingface pipeline\n",
    "pipe = transformers.pipeline(\"ner\", aggregation_strategy=\"simple\")"
   ]
  },
  {
   "cell_type": "code",
   "execution_count": 9,
   "metadata": {},
   "outputs": [],
   "source": [
    "# simple post processing to make sure that we only get names\n",
    "def get_names_from_ner(ner: list[dict]):\n",
    "    \"expects the ner to only contain a single full name i.e. first and last name. A middle name is optional\"\n",
    "    ner = [i for i in ner if i[\"entity_group\"] == \"PER\"]\n",
    "    ner = [i[\"word\"] for i in ner]\n",
    "    names = set()\n",
    "\n",
    "    for name in ner:\n",
    "        if len(name.split()) > 1 and \"#\" not in name:\n",
    "            names.add(name)\n",
    "    return names\n"
   ]
  },
  {
   "cell_type": "code",
   "execution_count": 5,
   "metadata": {},
   "outputs": [],
   "source": [
    "ners_2019_oral = [pipe(i) for i in texts_2019_oral]"
   ]
  },
  {
   "cell_type": "code",
   "execution_count": 10,
   "metadata": {},
   "outputs": [],
   "source": [
    "all_names = speakers_2019\n",
    "names_2019_oral = [get_names_from_ner(i) for i in ners_2019_oral]\n",
    "for names in names_2019_oral:\n",
    "    all_names = all_names.union(set(names))"
   ]
  },
  {
   "cell_type": "code",
   "execution_count": 15,
   "metadata": {},
   "outputs": [
    {
     "name": "stdout",
     "output_type": "stream",
     "text": [
      "Number of unique names found: 903\n"
     ]
    }
   ],
   "source": [
    "print(f\"Number of unique names found: {len(all_names)}\")"
   ]
  },
  {
   "cell_type": "markdown",
   "metadata": {},
   "source": [
    "## Part 2: Getting data from the Semantic Scholar API\n",
    "\n",
    "> * Consider the list of author ids you have found in Week 2, Part 3, first excercise. For each author, use the Academic Graph API to find:\n",
    ">    - their _aliases_\n",
    ">    - their _name_\n",
    ">    - their _papers_, where for each paper we want to retain: \n",
    ">        -  _title_ \n",
    ">        -  _abstract_ \n",
    ">        -  the _year_ of publication\n",
    ">        -  the _externalIds_ (this is because there are universal identifiers for scientific works called DOI that we can use across platforms)\n",
    ">        -  _s2FieldsOfStudy_ the fields of study\n",
    ">        - _citationCount_ the number of times that this paper was cited    \n",
    "> * Create three dataframe to store the data you have collected. \n",
    ">    \n",
    ">    - **Author dataset:** in the author dataset, one raw is one unique author, and each row contains the following information: \n",
    ">        - *authorId*: (str) the id of the author\n",
    ">        - *name*: (str) the name of the author\n",
    ">        - *aliases*: (list) the aliases of the author\n",
    ">        - *citationCount*: (int) the total number of citations received by an author\n",
    ">        - *field*: (str) the _s2FieldsOfStudy_ that occurs most times across an author's papers (you should first obtain the *category* for each _s2FieldsOfStudy_)\n",
    ">    - **Paper dataset:** in the paper dataset, one row is one unique paper, and each row contains the following information:\n",
    ">        - *paperId*: (str) the id of the paper\n",
    ">        - *title*: (str) the title of the paper\n",
    ">        - *year*: (int) the year of publication\n",
    ">        - *externalId.DOI:* (str) the DOI of the paper\n",
    ">        - *citationCount*: (int) the number of citations\n",
    ">        - *fields*: (list) the fields included in the paper (you should first obtain the *category* for each _s2FieldsOfStudy_)\n",
    ">        - *authorIds:* (list) this is a list of *author Ids*, including all the authors of this paper that are in our author dataset\n",
    ">    - **Paper abstract dataset:** in the paper abstract dataset, one row is one unique paper, and each row contains the following information: \n",
    ">        - *paperId*: (str) the id of the paper\n",
    ">        - *abstract*: (str) the abstract of the paper    \n",
    ">  (Note: we keep the abstract separate to keep the size of files more manageable)\n",
    "\n",
    "\n",
    "1. Share the number of authors you will use as starting point in this exercises. Add a comment clarifying how many IC2S2 editions you included and if the collaborators were included or not.\n",
    "2. Share the code you have used to solve the exercise above.\n",
    "3. How long is your final _Author_ dataframe? How long is your final _Paper_ dataframe? \n",
    "\n",
    "(**Note**: If you did not manage to get all the years or all the authors' collaborators, you can still follow the exercise. Just remember to clarify your starting point.)\n",
    "\n"
   ]
  },
  {
   "cell_type": "code",
   "execution_count": 52,
   "metadata": {},
   "outputs": [],
   "source": [
    "import numpy as np\n",
    "from time import sleep\n",
    "import pandas as pd\n",
    "import requests\n",
    "import os\n",
    "import pickle\n",
    "from tqdm.notebook import tqdm"
   ]
  },
  {
   "cell_type": "code",
   "execution_count": 53,
   "metadata": {},
   "outputs": [],
   "source": [
    "# utility functions for extracting data out of the responses\n",
    "def get_citation_count(papers: list) -> int:\n",
    "    citations = 0\n",
    "    for paper in papers:\n",
    "        citations += paper[\"citationCount\"]\n",
    "    return citations\n",
    "\n",
    "def get_primary_field(papers: list) -> str:\n",
    "    fields = {}\n",
    "    for paper in papers:\n",
    "        fields_of_study = paper[\"s2FieldsOfStudy\"]\n",
    "        for field in fields_of_study:\n",
    "            category = field[\"category\"]\n",
    "            if category not in fields:\n",
    "                fields[category] = 1\n",
    "            else:\n",
    "                fields[category] += 1\n",
    "    return max(fields, key=fields.get) if len(fields) > 0 else None\n",
    "\n",
    "def get_paper_author_ids(paper: dict) -> list:\n",
    "    return [a[\"authorId\"] for a in paper[\"authors\"]]"
   ]
  },
  {
   "cell_type": "code",
   "execution_count": 54,
   "metadata": {},
   "outputs": [
    {
     "name": "stdout",
     "output_type": "stream",
     "text": [
      "118197\n"
     ]
    }
   ],
   "source": [
    "# load the set of ids\n",
    "with open(\"ids.pkl\", \"rb\") as f:\n",
    "    ids = list(pickle.load(f))\n",
    "    print(len(ids))"
   ]
  },
  {
   "cell_type": "code",
   "execution_count": 55,
   "metadata": {},
   "outputs": [],
   "source": [
    "# make the requests and save periodically to separate files\n",
    "def make_author_requests(ids: list[str], start_index: int = 0, end_index: int = 100_000, batch_size=30, save_threshold=500):\n",
    "    if save_threshold < batch_size:\n",
    "        print(\"save_threshold must be higher than batch_size\")\n",
    "        exit()\n",
    "    batch_url = \"https://api.semanticscholar.org/graph/v1/author/batch\"\n",
    "    responses = []\n",
    "    requests_made = 0\n",
    "    counter = start_index\n",
    "    errors = []\n",
    "    save_increment = int(np.ceil(save_threshold/batch_size) * batch_size)\n",
    "    save_target = save_increment\n",
    "    save_start_idx = 0\n",
    "    while counter < end_index:\n",
    "        current_ids = ids[counter: counter + batch_size]\n",
    "        data = {\"ids\": current_ids}\n",
    "        params = {\"fields\": \"aliases,papers.title,papers.year,papers.externalIds,papers.s2FieldsOfStudy,papers.citationCount,papers.abstract,name,papers.authors\"}\n",
    "        try:\n",
    "            response = requests.post(batch_url, json=data, params=params).json()\n",
    "            \n",
    "            if isinstance(response, dict):\n",
    "                errors.append(response)\n",
    "                if response[\"message\"] == \"Too Many Requests\":\n",
    "                    sleep(300)\n",
    "                else:\n",
    "                    counter += batch_size\n",
    "            else:\n",
    "                responses.append(response)\n",
    "                counter += batch_size\n",
    "                requests_made += batch_size\n",
    "                if requests_made == save_target:\n",
    "                    with open(f\"responses_{save_start_idx+start_index}_{save_target+start_index}.pkl\", \"wb\") as f:\n",
    "                        pickle.dump(responses, f)\n",
    "                    responses = []\n",
    "                    save_start_idx = save_target\n",
    "                    save_target += save_increment\n",
    "        except Exception as e:\n",
    "            print(e)\n",
    "            counter += batch_size\n",
    "            requests_made += batch_size\n",
    "            if requests_made == save_target:\n",
    "                with open(f\"responses_{save_start_idx+start_index}_{save_target+start_index}.pkl\", \"wb\") as f:\n",
    "                    pickle.dump(responses, f)\n",
    "                responses = []\n",
    "                save_start_idx = save_target\n",
    "                save_target += save_increment\n",
    "\n",
    "    \n",
    "    \n",
    "    with open(f\"responses_{save_start_idx+start_index}_{end_index+start_index}.pkl\", \"wb\") as f:\n",
    "        pickle.dump(responses, f)\n",
    "    return errors"
   ]
  },
  {
   "cell_type": "code",
   "execution_count": 6,
   "metadata": {},
   "outputs": [],
   "source": [
    "# possible api responses:\n",
    "# {'message': 'Too Many Requests'}\n",
    "# {'message': 'Endpoint request timed out'}\n",
    "# {'message': 'Internal server error'}"
   ]
  },
  {
   "cell_type": "code",
   "execution_count": 56,
   "metadata": {},
   "outputs": [],
   "source": [
    "def make_dfs():\n",
    "    author_ids = []\n",
    "    author_names = []\n",
    "    all_author_aliases = []\n",
    "    citation_counts_author = []\n",
    "    fields = []\n",
    "    paper_ids = []\n",
    "    titles = []\n",
    "    years = []\n",
    "    dois = []\n",
    "    citation_counts_paper = []\n",
    "    all_fields = []\n",
    "    all_author_ids = []\n",
    "    abstracts = []       \n",
    "\n",
    "    response_file_names = [i for i in os.listdir() if \"responses\" in i]\n",
    "\n",
    "    for response_file in response_file_names:\n",
    "        with open(response_file, \"rb\") as f:\n",
    "            responses = pickle.load(f)\n",
    "        print(response_file)\n",
    "        for response in responses:\n",
    "            for author_info in response: \n",
    "                if author_info is not None:\n",
    "                    author_names.append(author_info[\"name\"])\n",
    "                    author_ids.append(author_info[\"authorId\"])\n",
    "                    all_author_aliases.append(author_info[\"aliases\"])\n",
    "                    citation_counts_author.append(get_citation_count(author_info[\"papers\"]))\n",
    "                    fields.append(get_primary_field(author_info[\"papers\"]))\n",
    "                    for paper in author_info[\"papers\"]:\n",
    "                        paper_ids.append(paper[\"paperId\"])\n",
    "                        titles.append(paper[\"title\"])\n",
    "                        years.append(paper[\"year\"])\n",
    "                        if \"DOI\" in paper[\"externalIds\"]:\n",
    "                            dois.append(paper[\"externalIds\"][\"DOI\"])\n",
    "                        else:\n",
    "                            dois.append(\"None\")\n",
    "                        all_fields.append([field[\"category\"] for field in paper[\"s2FieldsOfStudy\"]])\n",
    "                        all_author_ids.append(get_paper_author_ids(paper))\n",
    "                        abstracts.append(paper[\"abstract\"])\n",
    "                        citation_counts_paper.append(paper[\"citationCount\"])\n",
    "            \n",
    "    author_dict = {}\n",
    "    author_dict[\"id\"] = author_ids\n",
    "    author_dict[\"name\"] = author_names\n",
    "    author_dict[\"aliases\"] = all_author_aliases\n",
    "    author_dict[\"citation_count\"] = citation_counts_author\n",
    "    author_dict[\"field\"] = fields\n",
    "\n",
    "    df_authors = pd.DataFrame(author_dict)\n",
    "    df_authors.to_csv(\"authors.csv\")\n",
    "\n",
    "    paper_dict = {}\n",
    "    paper_dict[\"id\"] = paper_ids\n",
    "    paper_dict[\"title\"] = titles\n",
    "    paper_dict[\"year\"] = years\n",
    "    paper_dict[\"doi\"] = dois\n",
    "    paper_dict[\"citations\"] = citation_counts_paper\n",
    "    paper_dict[\"fields\"] = all_fields\n",
    "    paper_dict[\"authors\"] = all_author_ids\n",
    "\n",
    "    df_papers = pd.DataFrame(paper_dict)\n",
    "    df_papers.to_csv(\"papers.csv\")\n",
    "\n",
    "    paper_abstract_dict = {}\n",
    "    paper_abstract_dict[\"id\"] = paper_ids\n",
    "    paper_abstract_dict[\"abstract\"] = abstracts\n",
    "\n",
    "    df_paper_abstracts = pd.DataFrame(paper_abstract_dict)\n",
    "    df_paper_abstracts.to_csv(\"paper_abstracts.csv\")\n"
   ]
  },
  {
   "cell_type": "code",
   "execution_count": 8,
   "metadata": {},
   "outputs": [
    {
     "ename": "KeyboardInterrupt",
     "evalue": "",
     "output_type": "error",
     "traceback": [
      "\u001B[1;31m---------------------------------------------------------------------------\u001B[0m",
      "\u001B[1;31mKeyboardInterrupt\u001B[0m                         Traceback (most recent call last)",
      "Cell \u001B[1;32mIn[8], line 8\u001B[0m\n\u001B[0;32m      1\u001B[0m \u001B[39m# Kris\u001B[39;00m\n\u001B[0;32m      2\u001B[0m \u001B[39m# errors = make_author_requests(ids, end_index=40_000)\u001B[39;00m\n\u001B[0;32m      3\u001B[0m \n\u001B[1;32m   (...)\u001B[0m\n\u001B[0;32m      6\u001B[0m \n\u001B[0;32m      7\u001B[0m \u001B[39m# Victor\u001B[39;00m\n\u001B[1;32m----> 8\u001B[0m errors \u001B[39m=\u001B[39m make_author_requests(ids, start_index\u001B[39m=\u001B[39;49m\u001B[39m80_000\u001B[39;49m, end_index\u001B[39m=\u001B[39;49m\u001B[39m120_000\u001B[39;49m)\n",
      "Cell \u001B[1;32mIn[5], line 18\u001B[0m, in \u001B[0;36mmake_author_requests\u001B[1;34m(ids, start_index, end_index, batch_size, save_threshold)\u001B[0m\n\u001B[0;32m     16\u001B[0m params \u001B[39m=\u001B[39m {\u001B[39m\"\u001B[39m\u001B[39mfields\u001B[39m\u001B[39m\"\u001B[39m: \u001B[39m\"\u001B[39m\u001B[39maliases,papers.title,papers.year,papers.externalIds,papers.s2FieldsOfStudy,papers.citationCount,papers.abstract,name,papers.authors\u001B[39m\u001B[39m\"\u001B[39m}\n\u001B[0;32m     17\u001B[0m \u001B[39mtry\u001B[39;00m:\n\u001B[1;32m---> 18\u001B[0m     response \u001B[39m=\u001B[39m requests\u001B[39m.\u001B[39;49mpost(batch_url, json\u001B[39m=\u001B[39;49mdata, params\u001B[39m=\u001B[39;49mparams)\u001B[39m.\u001B[39mjson()\n\u001B[0;32m     20\u001B[0m     \u001B[39mif\u001B[39;00m \u001B[39misinstance\u001B[39m(response, \u001B[39mdict\u001B[39m):\n\u001B[0;32m     21\u001B[0m         errors\u001B[39m.\u001B[39mappend(response)\n",
      "File \u001B[1;32mc:\\Users\\victo\\Anaconda3\\envs\\si\\lib\\site-packages\\requests\\api.py:115\u001B[0m, in \u001B[0;36mpost\u001B[1;34m(url, data, json, **kwargs)\u001B[0m\n\u001B[0;32m    103\u001B[0m \u001B[39mdef\u001B[39;00m \u001B[39mpost\u001B[39m(url, data\u001B[39m=\u001B[39m\u001B[39mNone\u001B[39;00m, json\u001B[39m=\u001B[39m\u001B[39mNone\u001B[39;00m, \u001B[39m*\u001B[39m\u001B[39m*\u001B[39mkwargs):\n\u001B[0;32m    104\u001B[0m \u001B[39m    \u001B[39m\u001B[39mr\u001B[39m\u001B[39m\"\"\"Sends a POST request.\u001B[39;00m\n\u001B[0;32m    105\u001B[0m \n\u001B[0;32m    106\u001B[0m \u001B[39m    :param url: URL for the new :class:`Request` object.\u001B[39;00m\n\u001B[1;32m   (...)\u001B[0m\n\u001B[0;32m    112\u001B[0m \u001B[39m    :rtype: requests.Response\u001B[39;00m\n\u001B[0;32m    113\u001B[0m \u001B[39m    \"\"\"\u001B[39;00m\n\u001B[1;32m--> 115\u001B[0m     \u001B[39mreturn\u001B[39;00m request(\u001B[39m\"\u001B[39m\u001B[39mpost\u001B[39m\u001B[39m\"\u001B[39m, url, data\u001B[39m=\u001B[39mdata, json\u001B[39m=\u001B[39mjson, \u001B[39m*\u001B[39m\u001B[39m*\u001B[39mkwargs)\n",
      "File \u001B[1;32mc:\\Users\\victo\\Anaconda3\\envs\\si\\lib\\site-packages\\requests\\api.py:59\u001B[0m, in \u001B[0;36mrequest\u001B[1;34m(method, url, **kwargs)\u001B[0m\n\u001B[0;32m     55\u001B[0m \u001B[39m# By using the 'with' statement we are sure the session is closed, thus we\u001B[39;00m\n\u001B[0;32m     56\u001B[0m \u001B[39m# avoid leaving sockets open which can trigger a ResourceWarning in some\u001B[39;00m\n\u001B[0;32m     57\u001B[0m \u001B[39m# cases, and look like a memory leak in others.\u001B[39;00m\n\u001B[0;32m     58\u001B[0m \u001B[39mwith\u001B[39;00m sessions\u001B[39m.\u001B[39mSession() \u001B[39mas\u001B[39;00m session:\n\u001B[1;32m---> 59\u001B[0m     \u001B[39mreturn\u001B[39;00m session\u001B[39m.\u001B[39mrequest(method\u001B[39m=\u001B[39mmethod, url\u001B[39m=\u001B[39murl, \u001B[39m*\u001B[39m\u001B[39m*\u001B[39mkwargs)\n",
      "File \u001B[1;32mc:\\Users\\victo\\Anaconda3\\envs\\si\\lib\\site-packages\\requests\\sessions.py:587\u001B[0m, in \u001B[0;36mSession.request\u001B[1;34m(self, method, url, params, data, headers, cookies, files, auth, timeout, allow_redirects, proxies, hooks, stream, verify, cert, json)\u001B[0m\n\u001B[0;32m    582\u001B[0m send_kwargs \u001B[39m=\u001B[39m {\n\u001B[0;32m    583\u001B[0m     \u001B[39m\"\u001B[39m\u001B[39mtimeout\u001B[39m\u001B[39m\"\u001B[39m: timeout,\n\u001B[0;32m    584\u001B[0m     \u001B[39m\"\u001B[39m\u001B[39mallow_redirects\u001B[39m\u001B[39m\"\u001B[39m: allow_redirects,\n\u001B[0;32m    585\u001B[0m }\n\u001B[0;32m    586\u001B[0m send_kwargs\u001B[39m.\u001B[39mupdate(settings)\n\u001B[1;32m--> 587\u001B[0m resp \u001B[39m=\u001B[39m \u001B[39mself\u001B[39m\u001B[39m.\u001B[39msend(prep, \u001B[39m*\u001B[39m\u001B[39m*\u001B[39msend_kwargs)\n\u001B[0;32m    589\u001B[0m \u001B[39mreturn\u001B[39;00m resp\n",
      "File \u001B[1;32mc:\\Users\\victo\\Anaconda3\\envs\\si\\lib\\site-packages\\requests\\sessions.py:701\u001B[0m, in \u001B[0;36mSession.send\u001B[1;34m(self, request, **kwargs)\u001B[0m\n\u001B[0;32m    698\u001B[0m start \u001B[39m=\u001B[39m preferred_clock()\n\u001B[0;32m    700\u001B[0m \u001B[39m# Send the request\u001B[39;00m\n\u001B[1;32m--> 701\u001B[0m r \u001B[39m=\u001B[39m adapter\u001B[39m.\u001B[39msend(request, \u001B[39m*\u001B[39m\u001B[39m*\u001B[39mkwargs)\n\u001B[0;32m    703\u001B[0m \u001B[39m# Total elapsed time of the request (approximately)\u001B[39;00m\n\u001B[0;32m    704\u001B[0m elapsed \u001B[39m=\u001B[39m preferred_clock() \u001B[39m-\u001B[39m start\n",
      "File \u001B[1;32mc:\\Users\\victo\\Anaconda3\\envs\\si\\lib\\site-packages\\requests\\adapters.py:489\u001B[0m, in \u001B[0;36mHTTPAdapter.send\u001B[1;34m(self, request, stream, timeout, verify, cert, proxies)\u001B[0m\n\u001B[0;32m    487\u001B[0m \u001B[39mtry\u001B[39;00m:\n\u001B[0;32m    488\u001B[0m     \u001B[39mif\u001B[39;00m \u001B[39mnot\u001B[39;00m chunked:\n\u001B[1;32m--> 489\u001B[0m         resp \u001B[39m=\u001B[39m conn\u001B[39m.\u001B[39;49murlopen(\n\u001B[0;32m    490\u001B[0m             method\u001B[39m=\u001B[39;49mrequest\u001B[39m.\u001B[39;49mmethod,\n\u001B[0;32m    491\u001B[0m             url\u001B[39m=\u001B[39;49murl,\n\u001B[0;32m    492\u001B[0m             body\u001B[39m=\u001B[39;49mrequest\u001B[39m.\u001B[39;49mbody,\n\u001B[0;32m    493\u001B[0m             headers\u001B[39m=\u001B[39;49mrequest\u001B[39m.\u001B[39;49mheaders,\n\u001B[0;32m    494\u001B[0m             redirect\u001B[39m=\u001B[39;49m\u001B[39mFalse\u001B[39;49;00m,\n\u001B[0;32m    495\u001B[0m             assert_same_host\u001B[39m=\u001B[39;49m\u001B[39mFalse\u001B[39;49;00m,\n\u001B[0;32m    496\u001B[0m             preload_content\u001B[39m=\u001B[39;49m\u001B[39mFalse\u001B[39;49;00m,\n\u001B[0;32m    497\u001B[0m             decode_content\u001B[39m=\u001B[39;49m\u001B[39mFalse\u001B[39;49;00m,\n\u001B[0;32m    498\u001B[0m             retries\u001B[39m=\u001B[39;49m\u001B[39mself\u001B[39;49m\u001B[39m.\u001B[39;49mmax_retries,\n\u001B[0;32m    499\u001B[0m             timeout\u001B[39m=\u001B[39;49mtimeout,\n\u001B[0;32m    500\u001B[0m         )\n\u001B[0;32m    502\u001B[0m     \u001B[39m# Send the request.\u001B[39;00m\n\u001B[0;32m    503\u001B[0m     \u001B[39melse\u001B[39;00m:\n\u001B[0;32m    504\u001B[0m         \u001B[39mif\u001B[39;00m \u001B[39mhasattr\u001B[39m(conn, \u001B[39m\"\u001B[39m\u001B[39mproxy_pool\u001B[39m\u001B[39m\"\u001B[39m):\n",
      "File \u001B[1;32mc:\\Users\\victo\\Anaconda3\\envs\\si\\lib\\site-packages\\urllib3\\connectionpool.py:703\u001B[0m, in \u001B[0;36mHTTPConnectionPool.urlopen\u001B[1;34m(self, method, url, body, headers, retries, redirect, assert_same_host, timeout, pool_timeout, release_conn, chunked, body_pos, **response_kw)\u001B[0m\n\u001B[0;32m    700\u001B[0m     \u001B[39mself\u001B[39m\u001B[39m.\u001B[39m_prepare_proxy(conn)\n\u001B[0;32m    702\u001B[0m \u001B[39m# Make the request on the httplib connection object.\u001B[39;00m\n\u001B[1;32m--> 703\u001B[0m httplib_response \u001B[39m=\u001B[39m \u001B[39mself\u001B[39;49m\u001B[39m.\u001B[39;49m_make_request(\n\u001B[0;32m    704\u001B[0m     conn,\n\u001B[0;32m    705\u001B[0m     method,\n\u001B[0;32m    706\u001B[0m     url,\n\u001B[0;32m    707\u001B[0m     timeout\u001B[39m=\u001B[39;49mtimeout_obj,\n\u001B[0;32m    708\u001B[0m     body\u001B[39m=\u001B[39;49mbody,\n\u001B[0;32m    709\u001B[0m     headers\u001B[39m=\u001B[39;49mheaders,\n\u001B[0;32m    710\u001B[0m     chunked\u001B[39m=\u001B[39;49mchunked,\n\u001B[0;32m    711\u001B[0m )\n\u001B[0;32m    713\u001B[0m \u001B[39m# If we're going to release the connection in ``finally:``, then\u001B[39;00m\n\u001B[0;32m    714\u001B[0m \u001B[39m# the response doesn't need to know about the connection. Otherwise\u001B[39;00m\n\u001B[0;32m    715\u001B[0m \u001B[39m# it will also try to release it and we'll have a double-release\u001B[39;00m\n\u001B[0;32m    716\u001B[0m \u001B[39m# mess.\u001B[39;00m\n\u001B[0;32m    717\u001B[0m response_conn \u001B[39m=\u001B[39m conn \u001B[39mif\u001B[39;00m \u001B[39mnot\u001B[39;00m release_conn \u001B[39melse\u001B[39;00m \u001B[39mNone\u001B[39;00m\n",
      "File \u001B[1;32mc:\\Users\\victo\\Anaconda3\\envs\\si\\lib\\site-packages\\urllib3\\connectionpool.py:449\u001B[0m, in \u001B[0;36mHTTPConnectionPool._make_request\u001B[1;34m(self, conn, method, url, timeout, chunked, **httplib_request_kw)\u001B[0m\n\u001B[0;32m    444\u001B[0m             httplib_response \u001B[39m=\u001B[39m conn\u001B[39m.\u001B[39mgetresponse()\n\u001B[0;32m    445\u001B[0m         \u001B[39mexcept\u001B[39;00m \u001B[39mBaseException\u001B[39;00m \u001B[39mas\u001B[39;00m e:\n\u001B[0;32m    446\u001B[0m             \u001B[39m# Remove the TypeError from the exception chain in\u001B[39;00m\n\u001B[0;32m    447\u001B[0m             \u001B[39m# Python 3 (including for exceptions like SystemExit).\u001B[39;00m\n\u001B[0;32m    448\u001B[0m             \u001B[39m# Otherwise it looks like a bug in the code.\u001B[39;00m\n\u001B[1;32m--> 449\u001B[0m             six\u001B[39m.\u001B[39;49mraise_from(e, \u001B[39mNone\u001B[39;49;00m)\n\u001B[0;32m    450\u001B[0m \u001B[39mexcept\u001B[39;00m (SocketTimeout, BaseSSLError, SocketError) \u001B[39mas\u001B[39;00m e:\n\u001B[0;32m    451\u001B[0m     \u001B[39mself\u001B[39m\u001B[39m.\u001B[39m_raise_timeout(err\u001B[39m=\u001B[39me, url\u001B[39m=\u001B[39murl, timeout_value\u001B[39m=\u001B[39mread_timeout)\n",
      "File \u001B[1;32m<string>:3\u001B[0m, in \u001B[0;36mraise_from\u001B[1;34m(value, from_value)\u001B[0m\n",
      "File \u001B[1;32mc:\\Users\\victo\\Anaconda3\\envs\\si\\lib\\site-packages\\urllib3\\connectionpool.py:444\u001B[0m, in \u001B[0;36mHTTPConnectionPool._make_request\u001B[1;34m(self, conn, method, url, timeout, chunked, **httplib_request_kw)\u001B[0m\n\u001B[0;32m    441\u001B[0m \u001B[39mexcept\u001B[39;00m \u001B[39mTypeError\u001B[39;00m:\n\u001B[0;32m    442\u001B[0m     \u001B[39m# Python 3\u001B[39;00m\n\u001B[0;32m    443\u001B[0m     \u001B[39mtry\u001B[39;00m:\n\u001B[1;32m--> 444\u001B[0m         httplib_response \u001B[39m=\u001B[39m conn\u001B[39m.\u001B[39;49mgetresponse()\n\u001B[0;32m    445\u001B[0m     \u001B[39mexcept\u001B[39;00m \u001B[39mBaseException\u001B[39;00m \u001B[39mas\u001B[39;00m e:\n\u001B[0;32m    446\u001B[0m         \u001B[39m# Remove the TypeError from the exception chain in\u001B[39;00m\n\u001B[0;32m    447\u001B[0m         \u001B[39m# Python 3 (including for exceptions like SystemExit).\u001B[39;00m\n\u001B[0;32m    448\u001B[0m         \u001B[39m# Otherwise it looks like a bug in the code.\u001B[39;00m\n\u001B[0;32m    449\u001B[0m         six\u001B[39m.\u001B[39mraise_from(e, \u001B[39mNone\u001B[39;00m)\n",
      "File \u001B[1;32mc:\\Users\\victo\\Anaconda3\\envs\\si\\lib\\http\\client.py:1374\u001B[0m, in \u001B[0;36mHTTPConnection.getresponse\u001B[1;34m(self)\u001B[0m\n\u001B[0;32m   1372\u001B[0m \u001B[39mtry\u001B[39;00m:\n\u001B[0;32m   1373\u001B[0m     \u001B[39mtry\u001B[39;00m:\n\u001B[1;32m-> 1374\u001B[0m         response\u001B[39m.\u001B[39;49mbegin()\n\u001B[0;32m   1375\u001B[0m     \u001B[39mexcept\u001B[39;00m \u001B[39mConnectionError\u001B[39;00m:\n\u001B[0;32m   1376\u001B[0m         \u001B[39mself\u001B[39m\u001B[39m.\u001B[39mclose()\n",
      "File \u001B[1;32mc:\\Users\\victo\\Anaconda3\\envs\\si\\lib\\http\\client.py:318\u001B[0m, in \u001B[0;36mHTTPResponse.begin\u001B[1;34m(self)\u001B[0m\n\u001B[0;32m    316\u001B[0m \u001B[39m# read until we get a non-100 response\u001B[39;00m\n\u001B[0;32m    317\u001B[0m \u001B[39mwhile\u001B[39;00m \u001B[39mTrue\u001B[39;00m:\n\u001B[1;32m--> 318\u001B[0m     version, status, reason \u001B[39m=\u001B[39m \u001B[39mself\u001B[39;49m\u001B[39m.\u001B[39;49m_read_status()\n\u001B[0;32m    319\u001B[0m     \u001B[39mif\u001B[39;00m status \u001B[39m!=\u001B[39m CONTINUE:\n\u001B[0;32m    320\u001B[0m         \u001B[39mbreak\u001B[39;00m\n",
      "File \u001B[1;32mc:\\Users\\victo\\Anaconda3\\envs\\si\\lib\\http\\client.py:279\u001B[0m, in \u001B[0;36mHTTPResponse._read_status\u001B[1;34m(self)\u001B[0m\n\u001B[0;32m    278\u001B[0m \u001B[39mdef\u001B[39;00m \u001B[39m_read_status\u001B[39m(\u001B[39mself\u001B[39m):\n\u001B[1;32m--> 279\u001B[0m     line \u001B[39m=\u001B[39m \u001B[39mstr\u001B[39m(\u001B[39mself\u001B[39;49m\u001B[39m.\u001B[39;49mfp\u001B[39m.\u001B[39;49mreadline(_MAXLINE \u001B[39m+\u001B[39;49m \u001B[39m1\u001B[39;49m), \u001B[39m\"\u001B[39m\u001B[39miso-8859-1\u001B[39m\u001B[39m\"\u001B[39m)\n\u001B[0;32m    280\u001B[0m     \u001B[39mif\u001B[39;00m \u001B[39mlen\u001B[39m(line) \u001B[39m>\u001B[39m _MAXLINE:\n\u001B[0;32m    281\u001B[0m         \u001B[39mraise\u001B[39;00m LineTooLong(\u001B[39m\"\u001B[39m\u001B[39mstatus line\u001B[39m\u001B[39m\"\u001B[39m)\n",
      "File \u001B[1;32mc:\\Users\\victo\\Anaconda3\\envs\\si\\lib\\socket.py:705\u001B[0m, in \u001B[0;36mSocketIO.readinto\u001B[1;34m(self, b)\u001B[0m\n\u001B[0;32m    703\u001B[0m \u001B[39mwhile\u001B[39;00m \u001B[39mTrue\u001B[39;00m:\n\u001B[0;32m    704\u001B[0m     \u001B[39mtry\u001B[39;00m:\n\u001B[1;32m--> 705\u001B[0m         \u001B[39mreturn\u001B[39;00m \u001B[39mself\u001B[39;49m\u001B[39m.\u001B[39;49m_sock\u001B[39m.\u001B[39;49mrecv_into(b)\n\u001B[0;32m    706\u001B[0m     \u001B[39mexcept\u001B[39;00m timeout:\n\u001B[0;32m    707\u001B[0m         \u001B[39mself\u001B[39m\u001B[39m.\u001B[39m_timeout_occurred \u001B[39m=\u001B[39m \u001B[39mTrue\u001B[39;00m\n",
      "File \u001B[1;32mc:\\Users\\victo\\Anaconda3\\envs\\si\\lib\\ssl.py:1274\u001B[0m, in \u001B[0;36mSSLSocket.recv_into\u001B[1;34m(self, buffer, nbytes, flags)\u001B[0m\n\u001B[0;32m   1270\u001B[0m     \u001B[39mif\u001B[39;00m flags \u001B[39m!=\u001B[39m \u001B[39m0\u001B[39m:\n\u001B[0;32m   1271\u001B[0m         \u001B[39mraise\u001B[39;00m \u001B[39mValueError\u001B[39;00m(\n\u001B[0;32m   1272\u001B[0m           \u001B[39m\"\u001B[39m\u001B[39mnon-zero flags not allowed in calls to recv_into() on \u001B[39m\u001B[39m%s\u001B[39;00m\u001B[39m\"\u001B[39m \u001B[39m%\u001B[39m\n\u001B[0;32m   1273\u001B[0m           \u001B[39mself\u001B[39m\u001B[39m.\u001B[39m\u001B[39m__class__\u001B[39m)\n\u001B[1;32m-> 1274\u001B[0m     \u001B[39mreturn\u001B[39;00m \u001B[39mself\u001B[39;49m\u001B[39m.\u001B[39;49mread(nbytes, buffer)\n\u001B[0;32m   1275\u001B[0m \u001B[39melse\u001B[39;00m:\n\u001B[0;32m   1276\u001B[0m     \u001B[39mreturn\u001B[39;00m \u001B[39msuper\u001B[39m()\u001B[39m.\u001B[39mrecv_into(buffer, nbytes, flags)\n",
      "File \u001B[1;32mc:\\Users\\victo\\Anaconda3\\envs\\si\\lib\\ssl.py:1130\u001B[0m, in \u001B[0;36mSSLSocket.read\u001B[1;34m(self, len, buffer)\u001B[0m\n\u001B[0;32m   1128\u001B[0m \u001B[39mtry\u001B[39;00m:\n\u001B[0;32m   1129\u001B[0m     \u001B[39mif\u001B[39;00m buffer \u001B[39mis\u001B[39;00m \u001B[39mnot\u001B[39;00m \u001B[39mNone\u001B[39;00m:\n\u001B[1;32m-> 1130\u001B[0m         \u001B[39mreturn\u001B[39;00m \u001B[39mself\u001B[39;49m\u001B[39m.\u001B[39;49m_sslobj\u001B[39m.\u001B[39;49mread(\u001B[39mlen\u001B[39;49m, buffer)\n\u001B[0;32m   1131\u001B[0m     \u001B[39melse\u001B[39;00m:\n\u001B[0;32m   1132\u001B[0m         \u001B[39mreturn\u001B[39;00m \u001B[39mself\u001B[39m\u001B[39m.\u001B[39m_sslobj\u001B[39m.\u001B[39mread(\u001B[39mlen\u001B[39m)\n",
      "\u001B[1;31mKeyboardInterrupt\u001B[0m: "
     ]
    }
   ],
   "source": [
    "# Kris\n",
    "# errors = make_author_requests(ids, end_index=40_000)\n",
    "\n",
    "# Rasmus\n",
    "# errors = make_author_requests(ids, start_index=40_000 end_index=80_000)\n",
    "\n",
    "# Victor\n",
    "#errors = make_author_requests(ids, start_index=80_000, end_index=120_000)\n",
    "\n"
   ]
  },
  {
   "cell_type": "code",
   "execution_count": 57,
   "metadata": {},
   "outputs": [
    {
     "name": "stdout",
     "output_type": "stream",
     "text": [
      "responses_0_510.pkl\n",
      "responses_10200_10710.pkl\n",
      "responses_1020_1530.pkl\n",
      "responses_10710_11220.pkl\n",
      "responses_1530_2040.pkl\n",
      "responses_2040_2550.pkl\n",
      "responses_2550_3060.pkl\n",
      "responses_3060_3570.pkl\n",
      "responses_3570_4080.pkl\n",
      "responses_4080_4590.pkl\n",
      "responses_4590_5100.pkl\n",
      "responses_5100_5610.pkl\n",
      "responses_510_1020.pkl\n",
      "responses_5610_6120.pkl\n",
      "responses_6120_6630.pkl\n",
      "responses_6630_7140.pkl\n",
      "responses_7140_7650.pkl\n",
      "responses_7650_8160.pkl\n",
      "responses_8160_8670.pkl\n",
      "responses_8670_9180.pkl\n",
      "responses_9180_9690.pkl\n",
      "responses_9690_10200.pkl\n"
     ]
    }
   ],
   "source": [
    "make_dfs()"
   ]
  },
  {
   "cell_type": "code",
   "execution_count": 91,
   "metadata": {},
   "outputs": [],
   "source": [
    "df_authors = pd.read_csv(\"authors.csv\")\n",
    "df_papers = pd.read_csv(\"papers.csv\")\n",
    "df_paper_abstracts = pd.read_csv(\"paper_abstracts.csv\")"
   ]
  },
  {
   "cell_type": "code",
   "execution_count": 92,
   "metadata": {},
   "outputs": [
    {
     "data": {
      "text/html": [
       "<div>\n",
       "<style scoped>\n",
       "    .dataframe tbody tr th:only-of-type {\n",
       "        vertical-align: middle;\n",
       "    }\n",
       "\n",
       "    .dataframe tbody tr th {\n",
       "        vertical-align: top;\n",
       "    }\n",
       "\n",
       "    .dataframe thead th {\n",
       "        text-align: right;\n",
       "    }\n",
       "</style>\n",
       "<table border=\"1\" class=\"dataframe\">\n",
       "  <thead>\n",
       "    <tr style=\"text-align: right;\">\n",
       "      <th></th>\n",
       "      <th>Unnamed: 0</th>\n",
       "      <th>id</th>\n",
       "      <th>name</th>\n",
       "      <th>aliases</th>\n",
       "      <th>citation_count</th>\n",
       "      <th>field</th>\n",
       "    </tr>\n",
       "  </thead>\n",
       "  <tbody>\n",
       "    <tr>\n",
       "      <th>0</th>\n",
       "      <td>0</td>\n",
       "      <td>3452581</td>\n",
       "      <td>C. Yu</td>\n",
       "      <td>['Cheolwoong Yu', 'Cheol Woong Yu', 'Cheol-woo...</td>\n",
       "      <td>1838</td>\n",
       "      <td>Medicine</td>\n",
       "    </tr>\n",
       "    <tr>\n",
       "      <th>1</th>\n",
       "      <td>1</td>\n",
       "      <td>31730320</td>\n",
       "      <td>S. Sims</td>\n",
       "      <td>['S Sims', 'S M Sims', 'Stephen M Sims', 'S. M...</td>\n",
       "      <td>7015</td>\n",
       "      <td>Biology</td>\n",
       "    </tr>\n",
       "    <tr>\n",
       "      <th>2</th>\n",
       "      <td>2</td>\n",
       "      <td>2156396629</td>\n",
       "      <td>Hua Jiang</td>\n",
       "      <td>NaN</td>\n",
       "      <td>210</td>\n",
       "      <td>Computer Science</td>\n",
       "    </tr>\n",
       "    <tr>\n",
       "      <th>3</th>\n",
       "      <td>3</td>\n",
       "      <td>2068707666</td>\n",
       "      <td>Y. Kawamoto</td>\n",
       "      <td>['Y Kawamoto', 'Y. Kawamoto', 'Yuko Kawamoto']</td>\n",
       "      <td>224</td>\n",
       "      <td>Biology</td>\n",
       "    </tr>\n",
       "    <tr>\n",
       "      <th>4</th>\n",
       "      <td>4</td>\n",
       "      <td>14512193</td>\n",
       "      <td>Akshay Mohan</td>\n",
       "      <td>NaN</td>\n",
       "      <td>572</td>\n",
       "      <td>Computer Science</td>\n",
       "    </tr>\n",
       "  </tbody>\n",
       "</table>\n",
       "</div>"
      ],
      "text/plain": [
       "   Unnamed: 0          id          name  \\\n",
       "0           0     3452581         C. Yu   \n",
       "1           1    31730320       S. Sims   \n",
       "2           2  2156396629     Hua Jiang   \n",
       "3           3  2068707666   Y. Kawamoto   \n",
       "4           4    14512193  Akshay Mohan   \n",
       "\n",
       "                                             aliases  citation_count  \\\n",
       "0  ['Cheolwoong Yu', 'Cheol Woong Yu', 'Cheol-woo...            1838   \n",
       "1  ['S Sims', 'S M Sims', 'Stephen M Sims', 'S. M...            7015   \n",
       "2                                                NaN             210   \n",
       "3     ['Y Kawamoto', 'Y. Kawamoto', 'Yuko Kawamoto']             224   \n",
       "4                                                NaN             572   \n",
       "\n",
       "              field  \n",
       "0          Medicine  \n",
       "1           Biology  \n",
       "2  Computer Science  \n",
       "3           Biology  \n",
       "4  Computer Science  "
      ]
     },
     "execution_count": 92,
     "metadata": {},
     "output_type": "execute_result"
    }
   ],
   "source": [
    "df_authors.head()"
   ]
  },
  {
   "cell_type": "code",
   "execution_count": 93,
   "metadata": {},
   "outputs": [
    {
     "data": {
      "text/html": [
       "<div>\n",
       "<style scoped>\n",
       "    .dataframe tbody tr th:only-of-type {\n",
       "        vertical-align: middle;\n",
       "    }\n",
       "\n",
       "    .dataframe tbody tr th {\n",
       "        vertical-align: top;\n",
       "    }\n",
       "\n",
       "    .dataframe thead th {\n",
       "        text-align: right;\n",
       "    }\n",
       "</style>\n",
       "<table border=\"1\" class=\"dataframe\">\n",
       "  <thead>\n",
       "    <tr style=\"text-align: right;\">\n",
       "      <th></th>\n",
       "      <th>Unnamed: 0</th>\n",
       "      <th>id</th>\n",
       "      <th>title</th>\n",
       "      <th>year</th>\n",
       "      <th>doi</th>\n",
       "      <th>citations</th>\n",
       "      <th>fields</th>\n",
       "      <th>authors</th>\n",
       "    </tr>\n",
       "  </thead>\n",
       "  <tbody>\n",
       "    <tr>\n",
       "      <th>0</th>\n",
       "      <td>0</td>\n",
       "      <td>644ca7ada31caf3e199593bb8470ce20d2dabd3e</td>\n",
       "      <td>Early Invasive Strategy Based on the Time of S...</td>\n",
       "      <td>2023.0</td>\n",
       "      <td>10.1016/j.jcin.2022.09.039</td>\n",
       "      <td>1</td>\n",
       "      <td>['Medicine']</td>\n",
       "      <td>['151426488', '4239844', '8600251', '46455074'...</td>\n",
       "    </tr>\n",
       "    <tr>\n",
       "      <th>1</th>\n",
       "      <td>1</td>\n",
       "      <td>9be790c557637b052dc6fd12987882367762752a</td>\n",
       "      <td>Real-World Comparison of Transcatheter Versus ...</td>\n",
       "      <td>2023.0</td>\n",
       "      <td>10.3390/jcm12020571</td>\n",
       "      <td>0</td>\n",
       "      <td>['Medicine']</td>\n",
       "      <td>['4464665', '40035744', '5338844', '1661034763...</td>\n",
       "    </tr>\n",
       "    <tr>\n",
       "      <th>2</th>\n",
       "      <td>2</td>\n",
       "      <td>05e33b6aca9192f2f3264b58641af78db14c66fb</td>\n",
       "      <td>TCTAP A-046 Prognostic Impact of Plasma Glucos...</td>\n",
       "      <td>2022.0</td>\n",
       "      <td>10.1016/j.jacc.2022.03.067</td>\n",
       "      <td>0</td>\n",
       "      <td>['Medicine']</td>\n",
       "      <td>['83981515', '12570303', '2028271750', '143766...</td>\n",
       "    </tr>\n",
       "    <tr>\n",
       "      <th>3</th>\n",
       "      <td>3</td>\n",
       "      <td>08372786639958bf8c2f0225fc4890727a51487e</td>\n",
       "      <td>Association between High Lipid Burden of Targe...</td>\n",
       "      <td>2022.0</td>\n",
       "      <td>10.3390/jcm11185401</td>\n",
       "      <td>0</td>\n",
       "      <td>['Medicine', 'Biology']</td>\n",
       "      <td>['8600251', '4239844', '4929815', '46455074', ...</td>\n",
       "    </tr>\n",
       "    <tr>\n",
       "      <th>4</th>\n",
       "      <td>4</td>\n",
       "      <td>087b373f7a41d7000b05a54fcda0e8caed5b3f83</td>\n",
       "      <td>ASSOCIATION OF PROPHYLACTIC DISTAL PERFUSION C...</td>\n",
       "      <td>2022.0</td>\n",
       "      <td>10.1016/s0735-1097(22)01240-2</td>\n",
       "      <td>0</td>\n",
       "      <td>['Medicine']</td>\n",
       "      <td>['1576164887', '2975466', '46374746', '2773622...</td>\n",
       "    </tr>\n",
       "  </tbody>\n",
       "</table>\n",
       "</div>"
      ],
      "text/plain": [
       "   Unnamed: 0                                        id  \\\n",
       "0           0  644ca7ada31caf3e199593bb8470ce20d2dabd3e   \n",
       "1           1  9be790c557637b052dc6fd12987882367762752a   \n",
       "2           2  05e33b6aca9192f2f3264b58641af78db14c66fb   \n",
       "3           3  08372786639958bf8c2f0225fc4890727a51487e   \n",
       "4           4  087b373f7a41d7000b05a54fcda0e8caed5b3f83   \n",
       "\n",
       "                                               title    year  \\\n",
       "0  Early Invasive Strategy Based on the Time of S...  2023.0   \n",
       "1  Real-World Comparison of Transcatheter Versus ...  2023.0   \n",
       "2  TCTAP A-046 Prognostic Impact of Plasma Glucos...  2022.0   \n",
       "3  Association between High Lipid Burden of Targe...  2022.0   \n",
       "4  ASSOCIATION OF PROPHYLACTIC DISTAL PERFUSION C...  2022.0   \n",
       "\n",
       "                             doi  citations                   fields  \\\n",
       "0     10.1016/j.jcin.2022.09.039          1             ['Medicine']   \n",
       "1            10.3390/jcm12020571          0             ['Medicine']   \n",
       "2     10.1016/j.jacc.2022.03.067          0             ['Medicine']   \n",
       "3            10.3390/jcm11185401          0  ['Medicine', 'Biology']   \n",
       "4  10.1016/s0735-1097(22)01240-2          0             ['Medicine']   \n",
       "\n",
       "                                             authors  \n",
       "0  ['151426488', '4239844', '8600251', '46455074'...  \n",
       "1  ['4464665', '40035744', '5338844', '1661034763...  \n",
       "2  ['83981515', '12570303', '2028271750', '143766...  \n",
       "3  ['8600251', '4239844', '4929815', '46455074', ...  \n",
       "4  ['1576164887', '2975466', '46374746', '2773622...  "
      ]
     },
     "execution_count": 93,
     "metadata": {},
     "output_type": "execute_result"
    }
   ],
   "source": [
    "df_papers.head()"
   ]
  },
  {
   "cell_type": "code",
   "execution_count": 94,
   "metadata": {},
   "outputs": [
    {
     "data": {
      "text/html": [
       "<div>\n",
       "<style scoped>\n",
       "    .dataframe tbody tr th:only-of-type {\n",
       "        vertical-align: middle;\n",
       "    }\n",
       "\n",
       "    .dataframe tbody tr th {\n",
       "        vertical-align: top;\n",
       "    }\n",
       "\n",
       "    .dataframe thead th {\n",
       "        text-align: right;\n",
       "    }\n",
       "</style>\n",
       "<table border=\"1\" class=\"dataframe\">\n",
       "  <thead>\n",
       "    <tr style=\"text-align: right;\">\n",
       "      <th></th>\n",
       "      <th>Unnamed: 0</th>\n",
       "      <th>id</th>\n",
       "      <th>abstract</th>\n",
       "    </tr>\n",
       "  </thead>\n",
       "  <tbody>\n",
       "    <tr>\n",
       "      <th>0</th>\n",
       "      <td>0</td>\n",
       "      <td>644ca7ada31caf3e199593bb8470ce20d2dabd3e</td>\n",
       "      <td>NaN</td>\n",
       "    </tr>\n",
       "    <tr>\n",
       "      <th>1</th>\n",
       "      <td>1</td>\n",
       "      <td>9be790c557637b052dc6fd12987882367762752a</td>\n",
       "      <td>Few studies have reported comparisons of out-o...</td>\n",
       "    </tr>\n",
       "    <tr>\n",
       "      <th>2</th>\n",
       "      <td>2</td>\n",
       "      <td>05e33b6aca9192f2f3264b58641af78db14c66fb</td>\n",
       "      <td>NaN</td>\n",
       "    </tr>\n",
       "    <tr>\n",
       "      <th>3</th>\n",
       "      <td>3</td>\n",
       "      <td>08372786639958bf8c2f0225fc4890727a51487e</td>\n",
       "      <td>Decreased thrombolysis in myocardial infarctio...</td>\n",
       "    </tr>\n",
       "    <tr>\n",
       "      <th>4</th>\n",
       "      <td>4</td>\n",
       "      <td>087b373f7a41d7000b05a54fcda0e8caed5b3f83</td>\n",
       "      <td>NaN</td>\n",
       "    </tr>\n",
       "  </tbody>\n",
       "</table>\n",
       "</div>"
      ],
      "text/plain": [
       "   Unnamed: 0                                        id  \\\n",
       "0           0  644ca7ada31caf3e199593bb8470ce20d2dabd3e   \n",
       "1           1  9be790c557637b052dc6fd12987882367762752a   \n",
       "2           2  05e33b6aca9192f2f3264b58641af78db14c66fb   \n",
       "3           3  08372786639958bf8c2f0225fc4890727a51487e   \n",
       "4           4  087b373f7a41d7000b05a54fcda0e8caed5b3f83   \n",
       "\n",
       "                                            abstract  \n",
       "0                                                NaN  \n",
       "1  Few studies have reported comparisons of out-o...  \n",
       "2                                                NaN  \n",
       "3  Decreased thrombolysis in myocardial infarctio...  \n",
       "4                                                NaN  "
      ]
     },
     "execution_count": 94,
     "metadata": {},
     "output_type": "execute_result"
    }
   ],
   "source": [
    "df_paper_abstracts.head()"
   ]
  },
  {
   "cell_type": "markdown",
   "metadata": {},
   "source": [
    "## Part 3: Law of large numbers.\n",
    "\n",
    "As we have discussed in the lecture, one impact of heavy tails is that sample averages can be poor estimators of the underlying mean of the distribution.\n",
    "To understand this point better, recall [the Law of Large Numbers](https://en.wikipedia.org/wiki/Law_of_large_numbers).  Consider a sample of IID variables $ X_1, \\ldots, X_n $ from the same distribution $ F $ with finite expected value $ \\mathbb E |X_i| =  \\int x F(dx)  = \\mu $.\n",
    "\n",
    "According to the law, the mean of the sample $ \\bar X_n := \\frac{1}{n} \\sum_{i=1}^n X_i $ satisfies\n",
    "<a id='equation-lln-as2'></a>\n",
    "$$\n",
    "\\bar X_n \\to \\mu \\text{ as } n \\to \\infty \n",
    "$$\n",
    "\n",
    "This basically tell us that if we have a large enough sample, the sample mean will converge to the population mean. \n",
    "\n",
    "The condition that $ \\mathbb E | X_i | $ is finite holds in most cases but can fail if the distribution $ F $ is very heavy tailed. Further, even when $ \\mathbb E | X_i | $ is finite, the variance of a heavy tailed distribution can be so large that the sample mean will converge very slowly to the population mean. We will look into this in the following exercise. \n",
    "\n",
    "\n",
    "> 1. Sample __N=10,000__ data points from a [Gaussian Distribution](https://en.wikipedia.org/wiki/Normal_distribution) with parameters $\\mu = 0 $ and $\\sigma = 4$, using the [`np.random.standard_normal()`](https://numpy.org/doc/stable/reference/random/generated/numpy.random.standard_normal.html) function. Store your data in a numpy array $\\mathbf{X}$. \n",
    "> 2. Create a figure. \n",
    ">    - Plot the distribution of the data in $\\mathbf{X}$. \n",
    "> 3. Compute the cumulative average of $\\mathbf{X}$ (you achieve this by computing $average(\\{\\mathbf{X}[0],..., \\mathbf{X}[i-1]\\})$ for each index $i \\in [1, ..., N+1]$  ). Store the result in an array. \n",
    "> 4. In a similar way, compute the cumulative standard error of $\\mathbf{X}$. __Note__: the standard error of a sample is defined as $ \\sigma_{M} = \\frac{\\sigma}{\\sqrt(n)} $, where $\\sigma$ is the sample standard deviation and $n$ is the sample size. Store the result in an array. \n",
    "> 5. Compute the values of the distribution mean and median using the formulas you can find on the [Wikipedia page of the Gaussian Distribution](https://en.wikipedia.org/wiki/Normal_distribution)  \n",
    "> 6. Create a figure. \n",
    ">     - Plot the cumulative average computed in point 3. as a line plot (where the x-axis represent the size of the sample considered, and the y-axis is the average).\n",
    ">     - Add errorbars to each point in the graph with width equal to the standard error of the mean (the one you computed in point 4). \n",
    ">     - Add a horizontal line corresponding to the distribution mean (the one you found in point 5).\n",
    "> 7.  Compute the cumulative median of $\\mathbf{X}$ (you achieve this by computing $median(\\{\\mathbf{X}[0],..., \\mathbf{X}[i-1]\\})$ for each index $i \\in [1, ..., N+1]$). Store the result in an array. \n",
    "> 8. Create a figure. \n",
    ">    - Plot the cumulative median computed in point 7. as a line plot (where the x-axis represent the size of the sample considered, and the y-axis is the average).\n",
    ">    - Add a horizontal line corresponding to the distribution median (the one you found in point 5).\n",
    ">    - _Optional:_ Add errorbars to your median line graph, with width equal to the standard error of the median. You can compute the standard error of the median [via bootstrapping](https://online.stat.psu.edu/stat500/book/export/html/619). \n",
    "> 9. Now sample __N = 10,000__ data points from a [Pareto Distribution](https://en.wikipedia.org/wiki/Pareto_distribution) with parameters $x_m=1$ and $\\alpha=0.5$ using the [`np.random.pareto()`](https://numpy.org/doc/stable/reference/random/generated/numpy.random.pareto.html) function, and store it in a numpy array. (_Optional:_ Write yourself the function to sample from a Pareto distribution using the [_Inverse Transform Sampling method_](https://en.wikipedia.org/wiki/Inverse_transform_sampling))\n",
    "> 10. Repeat points 2 to 8 for the Pareto Distribution sample computed in point 9. \n",
    "> 11. Now sample __N = 10,000__ data points from a [Lognormal Distribution](https://en.wikipedia.org/wiki/Log-normal_distribution) with parameters $\\mu=0$ and $\\sigma=4$ using the [`np.random.standard_normal()`](https://numpy.org/doc/stable/reference/random/generated/numpy.random.standard_normal.html) function, and store it in a numpy array. \n",
    "> 12. Repeat points 2 to 8 for the Lognormal Distribution sample computed in point 11. \n",
    "> 13. Now, consider the array collecting the citations of papers from 2009 you created in Exercise 3, point 1. First, compute the mean and median number of citations for this population. Then, extract a random sample of __N=10,000__ papers.  \n",
    "> 14. Repeat points 2,3,4,6,7 and 8 above for the paper citation sample prepared in point 13. \n",
    "\n",
    "> Answer the following questions:\n",
    "(__Hint__: I suggest you plot the graphs above multiple times for different random samples, to get a better understanding of what is going on)\n",
    "\n",
    ">    -  Compare the evolution of the cumulative average for the Gaussian, Pareto and LogNormal distribution. What do you observe? Would you expect these results? Why?\n",
    ">    - Compare the cumulative median vs the cumulative average for the three distributions. What do you observe? Can you draw any conclusions regarding which statistics (the mean or the median) is more usfeul in the different cases? \n",
    ">    - Consider the plots you made using the citation count data in point 14. What do you observe? What are the implications? \n",
    ">    - What do you think are the main take-home message of this exercise? "
   ]
  },
  {
   "cell_type": "code",
   "execution_count": 48,
   "metadata": {},
   "outputs": [],
   "source": [
    "import numpy as np\n",
    "import matplotlib.pyplot as plt\n",
    "\n",
    "N = 10000\n",
    "width = 15\n",
    "height = 5\n",
    "dpi = 100"
   ]
  },
  {
   "cell_type": "code",
   "execution_count": 49,
   "metadata": {
    "collapsed": false
   },
   "outputs": [
    {
     "data": {
      "text/plain": "Text(0.5, 1.0, 'Gaussian Distribution sample')"
     },
     "execution_count": 49,
     "metadata": {},
     "output_type": "execute_result"
    },
    {
     "data": {
      "text/plain": "<Figure size 1500x500 with 3 Axes>",
      "image/png": "[encoded data removed]"
     },
     "metadata": {
      "needs_background": "light"
     },
     "output_type": "display_data"
    }
   ],
   "source": [
    "# 1. Sample N=10,000 data points from a Gaussian Distribution with parameters  𝜇=0  and  𝜎=4 ,\n",
    "# using the np.random.standard_normal() function. Store your data in a numpy array 𝑋 .\n",
    "mu = 0\n",
    "sigma = 4\n",
    "X = np.random.standard_normal(N) * sigma + mu\n",
    "\n",
    "# DO points 2 to 8 for the Gaussian Distribution sample computed in point 9.\n",
    "# collect them in a 1x3 grid of subplots.\n",
    "fig, axs = plt.subplots(1, 3, figsize=(width, height), dpi=dpi)\n",
    "axs = axs.flatten()\n",
    "\n",
    "# plot distribution\n",
    "axs[0].hist(X, bins=100, width=0.2)\n",
    "axs[0].set_xlabel('x')\n",
    "axs[0].set_ylabel('count')\n",
    "axs[0].set_title('Gaussian Distribution sample')\n",
    "\n",
    "# cumulative average\n",
    "cumulative_average = np.cumsum(X) / np.arange(1, N + 1)\n",
    "cumulative_std = np.cumsum(X ** 2) / np.arange(1, N + 1) - cumulative_average ** 2\n",
    "cumulative_std = np.sqrt(cumulative_std)\n",
    "cumulative_std_error = cumulative_std / np.sqrt(np.arange(1, N + 1))\n",
    "\n",
    "axs[1].errorbar(np.arange(1, N + 1), cumulative_average, yerr=cumulative_std_error, fmt='o', markersize=1)\n",
    "axs[1].axhline(np.mean(X), color='r', linestyle='--')\n",
    "axs[1].set_xlabel('sample size')\n",
    "axs[1].set_ylabel('cumulative average')\n",
    "axs[1].set_title('Gaussian Distribution sample')\n",
    "\n",
    "# cumulative median\n",
    "cumulative_median = np.zeros(N)\n",
    "for i in range(N):\n",
    "    cumulative_median[i] = np.median(X[:i + 1])\n",
    "\n",
    "axs[2].plot(np.arange(1, N + 1), cumulative_median)\n",
    "axs[2].axhline(np.median(X), color='r', linestyle='--')\n",
    "axs[2].set_xlabel('sample size')\n",
    "axs[2].set_ylabel('cumulative median')\n",
    "axs[2].set_title('Gaussian Distribution sample')"
   ]
  },
  {
   "cell_type": "code",
   "execution_count": 50,
   "metadata": {
    "collapsed": false
   },
   "outputs": [
    {
     "data": {
      "text/plain": "Text(0.5, 1.0, 'Pareto Distribution')"
     },
     "execution_count": 50,
     "metadata": {},
     "output_type": "execute_result"
    },
    {
     "data": {
      "text/plain": "<Figure size 1500x500 with 3 Axes>",
      "image/png": "[encoded data removed]"
     },
     "metadata": {
      "needs_background": "light"
     },
     "output_type": "display_data"
    }
   ],
   "source": [
    "# 9. Now sample N=10,000 data points from a Pareto Distribution with parameters 𝑥𝑚=1 and 𝛼=2.5, using the np.random.pareto() function, and store it in a numpy array.\n",
    "alpha = 2.5\n",
    "xm = 1\n",
    "X = np.random.pareto(alpha, N) + xm\n",
    "\n",
    "# 10. Repeat points 2 to 8 for the Pareto Distribution sample computed in point 9.\n",
    "# collect them in a 1x3 grid of subplots.\n",
    "fig, axs = plt.subplots(1, 3, figsize=(width, height), dpi=dpi)\n",
    "axs = axs.flatten()\n",
    "\n",
    "# plot distribution\n",
    "axs[0].hist(X, bins=100, width=0.2)\n",
    "axs[0].set_xlabel('x')\n",
    "axs[0].set_ylabel('count')\n",
    "axs[0].set_title('Pareto Distribution')\n",
    "\n",
    "# cumulative average\n",
    "cumulative_average = np.cumsum(X) / np.arange(1, N + 1)\n",
    "cumulative_std = np.cumsum(X ** 2) / np.arange(1, N + 1) - cumulative_average ** 2\n",
    "cumulative_std = np.sqrt(cumulative_std)\n",
    "cumulative_std_error = cumulative_std / np.sqrt(np.arange(1, N + 1))\n",
    "\n",
    "axs[1].errorbar(np.arange(1, N + 1), cumulative_average, yerr=cumulative_std_error, fmt='o', markersize=1)\n",
    "axs[1].axhline(np.mean(X), color='r', linestyle='--')\n",
    "axs[1].set_xlabel('sample size')\n",
    "axs[1].set_ylabel('cumulative average')\n",
    "axs[1].set_title('Pareto Distribution')\n",
    "\n",
    "# cumulative median\n",
    "cumulative_median = np.zeros(N)\n",
    "for i in range(N):\n",
    "    cumulative_median[i] = np.median(X[:i + 1])\n",
    "\n",
    "axs[2].plot(np.arange(1, N + 1), cumulative_median)\n",
    "axs[2].axhline(np.median(X), color='r', linestyle='--')\n",
    "axs[2].set_xlabel('sample size')\n",
    "axs[2].set_ylabel('cumulative median')\n",
    "axs[2].set_title('Pareto Distribution')"
   ]
  },
  {
   "cell_type": "code",
   "execution_count": 51,
   "metadata": {
    "collapsed": false
   },
   "outputs": [
    {
     "data": {
      "text/plain": "Text(0.5, 1.0, 'Lognormal Distribution')"
     },
     "execution_count": 51,
     "metadata": {},
     "output_type": "execute_result"
    },
    {
     "data": {
      "text/plain": "<Figure size 1500x500 with 3 Axes>",
      "image/png": "[encoded data removed]"
     },
     "metadata": {
      "needs_background": "light"
     },
     "output_type": "display_data"
    }
   ],
   "source": [
    "# 11. Now sample N=10,000 data points from a Lognormal Distribution with parameters 𝜇=0 and 𝜎=1, using the np.random.lognormal() function, and store it in a numpy array.\n",
    "\n",
    "mu = 0\n",
    "sigma = 1\n",
    "X = np.random.lognormal(mu, sigma, N)\n",
    "\n",
    "# 12. Repeat points 2 to 8 for the Lognormal Distribution sample computed in point 11.\n",
    "# collect them in a 1x3 grid of subplots.\n",
    "fig, axs = plt.subplots(1, 3, figsize=(width, height), dpi=dpi)\n",
    "axs = axs.flatten()\n",
    "\n",
    "# plot distribution\n",
    "axs[0].hist(X, bins=100, width=0.2)\n",
    "axs[0].set_xlabel('x')\n",
    "axs[0].set_ylabel('count')\n",
    "axs[0].set_title('Lognormal Distribution')\n",
    "\n",
    "# cumulative average\n",
    "cumulative_average = np.cumsum(X) / np.arange(1, N + 1)\n",
    "cumulative_std = np.cumsum(X ** 2) / np.arange(1, N + 1) - cumulative_average ** 2\n",
    "cumulative_std = np.sqrt(cumulative_std)\n",
    "cumulative_std_error = cumulative_std / np.sqrt(np.arange(1, N + 1))\n",
    "\n",
    "axs[1].errorbar(np.arange(1, N + 1), cumulative_average, yerr=cumulative_std_error, fmt='o', markersize=1)\n",
    "axs[1].axhline(np.mean(X), color='r', linestyle='--')\n",
    "axs[1].set_xlabel('sample size')\n",
    "axs[1].set_ylabel('cumulative average')\n",
    "axs[1].set_title('Lognormal Distribution')\n",
    "\n",
    "# cumulative median\n",
    "cumulative_median = np.zeros(N)\n",
    "for i in range(N):\n",
    "    cumulative_median[i] = np.median(X[:i + 1])\n",
    "\n",
    "axs[2].plot(np.arange(1, N + 1), cumulative_median)\n",
    "axs[2].axhline(np.median(X), color='r', linestyle='--')\n",
    "axs[2].set_xlabel('sample size')\n",
    "axs[2].set_ylabel('cumulative median')\n",
    "axs[2].set_title('Lognormal Distribution')\n"
   ]
  },
  {
   "cell_type": "code",
   "execution_count": 35,
   "metadata": {
    "collapsed": false
   },
   "outputs": [],
   "source": []
  }
 ],
 "metadata": {
  "kernelspec": {
   "display_name": "si",
   "language": "python",
   "name": "python3"
  },
  "language_info": {
   "codemirror_mode": {
    "name": "ipython",
    "version": 3
   },
   "file_extension": ".py",
   "mimetype": "text/x-python",
   "name": "python",
   "nbconvert_exporter": "python",
   "pygments_lexer": "ipython3",
   "version": "3.10.9"
  },
  "vscode": {
   "interpreter": {
    "hash": "1b50b1e558fcc408e6c0a998d060f815a99b5ae0274a1ba3c65d1f73dff854f0"
   }
  }
 },
 "nbformat": 4,
 "nbformat_minor": 2
}
