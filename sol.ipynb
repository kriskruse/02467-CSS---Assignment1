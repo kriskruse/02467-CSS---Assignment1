{
 "cells": [
  {
   "cell_type": "markdown",
   "id": "7e6b59c9",
   "metadata": {},
   "source": [
    "[Github link](https://github.com/kriskruse/02467-CSS---Assignment1)\n",
    "\n",
    "All members of the group contributed equally on the completion of the assignment."
   ]
  },
  {
   "cell_type": "markdown",
   "id": "5c7890e0",
   "metadata": {},
   "source": [
    "# Part 1: Web-scraping to gather data"
   ]
  },
  {
   "cell_type": "markdown",
   "id": "4c809492",
   "metadata": {},
   "source": [
    "1. Inspect the HTML of the pages above and use web-scraping to get the set of participants in 2019. Share your code and add comments to guide us through it.\n",
    "\n",
    "2. How many unique researchers you got in 2019?\n",
    "\n",
    "3. Explain one or two decisions you took during the web-scraping exercise, for 2019 or any other year. Why did you take this choice? How might your decision impact the final number of authors?"
   ]
  },
  {
   "cell_type": "code",
   "execution_count": 3,
   "id": "710c4c4a",
   "metadata": {},
   "outputs": [],
   "source": [
    "import requests\n",
    "from bs4 import BeautifulSoup\n",
    "from bs4.element import NavigableString\n",
    "import re\n",
    "\n",
    "# 2019\n",
    "speakers_2019 = set()\n",
    "poster_pattern = re.compile(r\"(?<=<li>)(.*?)(?=<span>|<br\\/>|<\\/li>)\") # Regex to find properly segment li's\n",
    "strong = re.compile(r\"(<strong>|</strong>)\")\n",
    "\n",
    "poster_session = requests.get(\"https://2019.ic2s2.org/posters/\").content\n",
    "poster = BeautifulSoup(poster_session)\n",
    "\n",
    "uls = poster.find_all(\"ul\")[6:8] # The 7th and 8th uls are the elements containing the list of names and presentations\n",
    "\n",
    "for ul in uls:\n",
    "    for li in ul:\n",
    "        if type(li) == NavigableString:\n",
    "            continue\n",
    "        match = re.findall(poster_pattern, str(li))\n",
    "        if match: # if there was a match proceed\n",
    "            if re.findall(strong, str(match)): # Filter away poorly written list elements (looking at you title in its own li)\n",
    "                continue\n",
    "            speakers = match[0].split(\", \") # split names at \", \"\n",
    "            split = speakers[-1].split(\" and \") # split the last potential pair of names at \" and \", if there isn't a pair nothing happens\n",
    "            if len(split) == 2: # if there was a pair of names it will be split\n",
    "                speakers = speakers[:-1] + split\n",
    "            for speaker in speakers:\n",
    "                speakers_2019.add(speaker) # finally add the names from the li to the set of speakers"
   ]
  },
  {
   "cell_type": "markdown",
   "id": "11c5f374",
   "metadata": {},
   "source": [
    "Both the days of the poster session are unordered list elements (ul), for which each bullet point is a list item (li). Bullet points with names followed by the title of presentation starts with a \\<li> tag and ends at the beginning of a \\<span> tag.\n",
    "\n",
    "There are some inconsistencies which are caught with the alternative endings of the \\<li> tags such as the names of the speakers being only within the \\<li> tag. Lastly the \\<li> tags containing \\<strong> implies that it is NOT a set of speaker names but rather a title that has been matched, which is filtered out."
   ]
  },
  {
   "cell_type": "code",
   "execution_count": 4,
   "id": "8b39a333",
   "metadata": {},
   "outputs": [],
   "source": [
    "# 2020 speakers\n",
    "link = \"https://docs.google.com/spreadsheets/u/0/d/e/2PACX-1vTX9_1Xftn7D-nSI8X9b7tafr_Z0kAbphKdfZ8qUSU9p-syXNsGPdhHl5ZyTnKKL-T6dCEJqtsrn3wy/pubhtml/sheet?headers=false&gid=181378784\"\n",
    "text = requests.get(link).content\n",
    "schedule = BeautifulSoup(text)\n",
    "rows = schedule.find_all(\"tr\")[2:]\n",
    "\n",
    "speakers_2020 = set()\n",
    "for row in rows:\n",
    "    names = row.find_all(\"td\")[2].get_text()\n",
    "    names = names.split(\",\")\n",
    "    for name in names:\n",
    "        if name: # ensure non-empty string\n",
    "            speakers_2020.add(name.strip())\n"
   ]
  },
  {
   "cell_type": "code",
   "execution_count": 8,
   "id": "c4b63142",
   "metadata": {},
   "outputs": [],
   "source": [
    "# 2021 speakers\n",
    "speakers_2021 = set()\n",
    "html_2021 = requests.get(\"https://easychair.org/smart-program/IC2S2-2021/talk_author_index.html\").content\n",
    "soup2021 = BeautifulSoup(html_2021)\n",
    "rows = soup2021.find_all(\"tr\")[2:]\n",
    "\n",
    "for row in rows:\n",
    "    name = row.find_all(\"td\")[0].get_text()\n",
    "    if len(name) != 1:\n",
    "        last_name, first_name = name.split(\", \")\n",
    "        speakers_2021.add(f\"{first_name} {last_name}\")\n",
    "\n",
    "speakers = speakers_2019.union(speakers_2020.union(speakers_2021))"
   ]
  },
  {
   "cell_type": "markdown",
   "id": "cc2fcc66",
   "metadata": {},
   "source": [
    "# Part 2: Getting data from the Semantic Scholar API"
   ]
  },
  {
   "cell_type": "code",
   "execution_count": null,
   "id": "7d638f39",
   "metadata": {},
   "outputs": [
    {
     "name": "stderr",
     "output_type": "stream",
     "text": [
      " 21%|████████████████▏                                                              | 386/1878 [07:21<57:49,  2.33s/it]"
     ]
    }
   ],
   "source": [
    "import time\n",
    "import tqdm\n",
    "speakers = list(speakers)\n",
    "ids = set()\n",
    "\n",
    "for name in tqdm.tqdm(speakers):\n",
    "    params = {\"query\": name, \"fields\": \"papers.authors\", \"limit\": 1}\n",
    "    response = requests.get(\"https://api.semanticscholar.org/graph/v1/author/search\", params=params).json()\n",
    "    for author in response.get(\"data\", []):\n",
    "        if author:\n",
    "            ids.add(author[\"authorId\"])\n",
    "    \n",
    "    \n",
    "    \n"
   ]
  },
  {
   "cell_type": "code",
   "execution_count": null,
   "id": "82306fe5",
   "metadata": {},
   "outputs": [],
   "source": []
  }
 ],
 "metadata": {
  "kernelspec": {
   "display_name": "Python 3 (ipykernel)",
   "language": "python",
   "name": "python3"
  },
  "language_info": {
   "codemirror_mode": {
    "name": "ipython",
    "version": 3
   },
   "file_extension": ".py",
   "mimetype": "text/x-python",
   "name": "python",
   "nbconvert_exporter": "python",
   "pygments_lexer": "ipython3",
   "version": "3.9.15"
  }
 },
 "nbformat": 4,
 "nbformat_minor": 5
}
